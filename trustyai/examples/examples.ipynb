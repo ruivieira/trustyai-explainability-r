{
 "cells": [
  {
   "cell_type": "code",
   "execution_count": 1,
   "id": "03eedecf-800d-48c0-abe0-16366412d7c1",
   "metadata": {},
   "outputs": [],
   "source": [
    "library(trustyai)\n",
    "library(rJava)"
   ]
  },
  {
   "cell_type": "markdown",
   "id": "b6c5cafc-c241-4d7b-a2a7-47c80e7d3948",
   "metadata": {},
   "source": [
    "# Simple linear regression\n",
    "\n",
    "We'll start with a simple linear regression using the `trees`[^1] dataset.\n",
    "\n",
    "[^1]: https://stat.ethz.ch/R-manual/R-devel/library/datasets/html/trees.html"
   ]
  },
  {
   "cell_type": "code",
   "execution_count": 2,
   "id": "c917142d-c470-4cfc-8f51-2738f4078c87",
   "metadata": {},
   "outputs": [
    {
     "data": {
      "text/html": [
       "<table class=\"dataframe\">\n",
       "<caption>A data.frame: 6 × 3</caption>\n",
       "<thead>\n",
       "\t<tr><th></th><th scope=col>Girth</th><th scope=col>Height</th><th scope=col>Volume</th></tr>\n",
       "\t<tr><th></th><th scope=col>&lt;dbl&gt;</th><th scope=col>&lt;dbl&gt;</th><th scope=col>&lt;dbl&gt;</th></tr>\n",
       "</thead>\n",
       "<tbody>\n",
       "\t<tr><th scope=row>1</th><td> 8.3</td><td>70</td><td>10.3</td></tr>\n",
       "\t<tr><th scope=row>2</th><td> 8.6</td><td>65</td><td>10.3</td></tr>\n",
       "\t<tr><th scope=row>3</th><td> 8.8</td><td>63</td><td>10.2</td></tr>\n",
       "\t<tr><th scope=row>4</th><td>10.5</td><td>72</td><td>16.4</td></tr>\n",
       "\t<tr><th scope=row>5</th><td>10.7</td><td>81</td><td>18.8</td></tr>\n",
       "\t<tr><th scope=row>6</th><td>10.8</td><td>83</td><td>19.7</td></tr>\n",
       "</tbody>\n",
       "</table>\n"
      ],
      "text/latex": [
       "A data.frame: 6 × 3\n",
       "\\begin{tabular}{r|lll}\n",
       "  & Girth & Height & Volume\\\\\n",
       "  & <dbl> & <dbl> & <dbl>\\\\\n",
       "\\hline\n",
       "\t1 &  8.3 & 70 & 10.3\\\\\n",
       "\t2 &  8.6 & 65 & 10.3\\\\\n",
       "\t3 &  8.8 & 63 & 10.2\\\\\n",
       "\t4 & 10.5 & 72 & 16.4\\\\\n",
       "\t5 & 10.7 & 81 & 18.8\\\\\n",
       "\t6 & 10.8 & 83 & 19.7\\\\\n",
       "\\end{tabular}\n"
      ],
      "text/markdown": [
       "\n",
       "A data.frame: 6 × 3\n",
       "\n",
       "| <!--/--> | Girth &lt;dbl&gt; | Height &lt;dbl&gt; | Volume &lt;dbl&gt; |\n",
       "|---|---|---|---|\n",
       "| 1 |  8.3 | 70 | 10.3 |\n",
       "| 2 |  8.6 | 65 | 10.3 |\n",
       "| 3 |  8.8 | 63 | 10.2 |\n",
       "| 4 | 10.5 | 72 | 16.4 |\n",
       "| 5 | 10.7 | 81 | 18.8 |\n",
       "| 6 | 10.8 | 83 | 19.7 |\n",
       "\n"
      ],
      "text/plain": [
       "  Girth Height Volume\n",
       "1  8.3  70     10.3  \n",
       "2  8.6  65     10.3  \n",
       "3  8.8  63     10.2  \n",
       "4 10.5  72     16.4  \n",
       "5 10.7  81     18.8  \n",
       "6 10.8  83     19.7  "
      ]
     },
     "metadata": {},
     "output_type": "display_data"
    }
   ],
   "source": [
    "data(trees)\n",
    "head(trees)"
   ]
  },
  {
   "cell_type": "code",
   "execution_count": 3,
   "id": "44a1e1ca-28b7-415b-b2d5-40b4abff6061",
   "metadata": {},
   "outputs": [],
   "source": [
    "regression <- lm(Volume ~ Girth * Height, data = trees)"
   ]
  },
  {
   "cell_type": "code",
   "execution_count": 4,
   "id": "b39d2263-d02a-470e-8dae-c3001ce8fdb5",
   "metadata": {},
   "outputs": [
    {
     "data": {
      "text/plain": [
       "\n",
       "Call:\n",
       "lm(formula = Volume ~ Girth * Height, data = trees)\n",
       "\n",
       "Residuals:\n",
       "    Min      1Q  Median      3Q     Max \n",
       "-6.5821 -1.0673  0.3026  1.5641  4.6649 \n",
       "\n",
       "Coefficients:\n",
       "             Estimate Std. Error t value Pr(>|t|)    \n",
       "(Intercept)  69.39632   23.83575   2.911  0.00713 ** \n",
       "Girth        -5.85585    1.92134  -3.048  0.00511 ** \n",
       "Height       -1.29708    0.30984  -4.186  0.00027 ***\n",
       "Girth:Height  0.13465    0.02438   5.524 7.48e-06 ***\n",
       "---\n",
       "Signif. codes:  0 ‘***’ 0.001 ‘**’ 0.01 ‘*’ 0.05 ‘.’ 0.1 ‘ ’ 1\n",
       "\n",
       "Residual standard error: 2.709 on 27 degrees of freedom\n",
       "Multiple R-squared:  0.9756,\tAdjusted R-squared:  0.9728 \n",
       "F-statistic: 359.3 on 3 and 27 DF,  p-value: < 2.2e-16\n"
      ]
     },
     "metadata": {},
     "output_type": "display_data"
    }
   ],
   "source": [
    "summary(regression)"
   ]
  },
  {
   "cell_type": "markdown",
   "id": "c0bf524c-28cc-4b02-bc32-60bb2ce24c1b",
   "metadata": {},
   "source": [
    "We create an R \"prediction\" function, in this case taking a dataframe as the input."
   ]
  },
  {
   "cell_type": "code",
   "execution_count": 5,
   "id": "bfcff72c-2432-47c4-bdd3-47c751aa1867",
   "metadata": {},
   "outputs": [],
   "source": [
    "prediction_fn <- function(df) {\n",
    "  return(predict(regression, df))\n",
    "}"
   ]
  },
  {
   "cell_type": "markdown",
   "id": "9de6d9c6-2940-4263-a24d-048b2e74945a",
   "metadata": {},
   "source": [
    "Create an input and store the prediction."
   ]
  },
  {
   "cell_type": "code",
   "execution_count": 6,
   "id": "c06deb5d-701c-4482-8937-661e3af0153b",
   "metadata": {},
   "outputs": [],
   "source": [
    "input <- data.frame(Girth = 18.2, Height = 72)\n",
    "pred <- as.double(prediction_fn(input))"
   ]
  },
  {
   "cell_type": "code",
   "execution_count": 7,
   "id": "37f58611-3f0c-491d-93fa-1ee0b27d8179",
   "metadata": {},
   "outputs": [
    {
     "data": {
      "text/html": [
       "<table class=\"dataframe\">\n",
       "<caption>A data.frame: 1 × 2</caption>\n",
       "<thead>\n",
       "\t<tr><th scope=col>Girth</th><th scope=col>Height</th></tr>\n",
       "\t<tr><th scope=col>&lt;dbl&gt;</th><th scope=col>&lt;dbl&gt;</th></tr>\n",
       "</thead>\n",
       "<tbody>\n",
       "\t<tr><td>18.2</td><td>72</td></tr>\n",
       "</tbody>\n",
       "</table>\n"
      ],
      "text/latex": [
       "A data.frame: 1 × 2\n",
       "\\begin{tabular}{ll}\n",
       " Girth & Height\\\\\n",
       " <dbl> & <dbl>\\\\\n",
       "\\hline\n",
       "\t 18.2 & 72\\\\\n",
       "\\end{tabular}\n"
      ],
      "text/markdown": [
       "\n",
       "A data.frame: 1 × 2\n",
       "\n",
       "| Girth &lt;dbl&gt; | Height &lt;dbl&gt; |\n",
       "|---|---|\n",
       "| 18.2 | 72 |\n",
       "\n"
      ],
      "text/plain": [
       "  Girth Height\n",
       "1 18.2  72    "
      ]
     },
     "metadata": {},
     "output_type": "display_data"
    }
   ],
   "source": [
    "input"
   ]
  },
  {
   "cell_type": "code",
   "execution_count": 8,
   "id": "0c3434eb-1715-4688-b9d1-aeaac29e5735",
   "metadata": {},
   "outputs": [
    {
     "data": {
      "text/html": [
       "45.8809988545732"
      ],
      "text/latex": [
       "45.8809988545732"
      ],
      "text/markdown": [
       "45.8809988545732"
      ],
      "text/plain": [
       "[1] 45.881"
      ]
     },
     "metadata": {},
     "output_type": "display_data"
    }
   ],
   "source": [
    "pred"
   ]
  },
  {
   "cell_type": "markdown",
   "id": "4bb3db66-d0a7-4e8a-ae92-925b8bc8e2df",
   "metadata": {},
   "source": [
    "We wrap the prediction function in a TrustyAI `Model`."
   ]
  },
  {
   "cell_type": "code",
   "execution_count": 9,
   "id": "53a59f03-94e9-4d21-98e0-851dd6b20d95",
   "metadata": {},
   "outputs": [],
   "source": [
    "model <- Model(prediction_fn)"
   ]
  },
  {
   "cell_type": "markdown",
   "id": "60fe8e26-7456-4584-8904-641656b1228c",
   "metadata": {},
   "source": [
    "We convert the input to features and the prediction as an `Output`."
   ]
  },
  {
   "cell_type": "code",
   "execution_count": 10,
   "id": "b4ac5694-b7be-4a22-9505-c7704ce5a575",
   "metadata": {},
   "outputs": [],
   "source": [
    "features <- c(\n",
    "  feature(name=\"Girth\", type=\"number\", value=18.2),\n",
    "  feature(name=\"Height\", type=\"number\", value=72.0))"
   ]
  },
  {
   "cell_type": "code",
   "execution_count": 11,
   "id": "ec401611-04ba-41ec-b6c9-94735df1d623",
   "metadata": {},
   "outputs": [],
   "source": [
    "output <- c(create_output(\"Volume\", pred))"
   ]
  },
  {
   "cell_type": "markdown",
   "id": "8b91f5c9-57ce-4ba6-8a86-066b62c8da56",
   "metadata": {},
   "source": [
    "Request the saliencies for this input/output to the LIME explainer:"
   ]
  },
  {
   "cell_type": "code",
   "execution_count": 12,
   "id": "4cdcb513-31f1-4480-a7c2-82e8f1357263",
   "metadata": {},
   "outputs": [],
   "source": [
    "saliencies <- lime(features, output, model)"
   ]
  },
  {
   "cell_type": "code",
   "execution_count": 13,
   "id": "b1af450e-3fdf-430c-8138-47c5d944578c",
   "metadata": {},
   "outputs": [
    {
     "name": "stdout",
     "output_type": "stream",
     "text": [
      "=== Volume LIME Saliencies ===================\n",
      "  Feature      Value |  Saliency  | Confidence\n",
      "----------------------------------------------\n",
      " Girth =      18.200 |     0.000         0.000\n",
      "----------------------------------------------\n",
      "          Prediction |    45.881              \n",
      "=============================================="
     ]
    }
   ],
   "source": [
    "cat(saliencies$asTable())"
   ]
  },
  {
   "cell_type": "markdown",
   "id": "9b448a56",
   "metadata": {},
   "source": [
    "# Random forests\n",
    "\n",
    "For the Boston housing dataset."
   ]
  },
  {
   "cell_type": "code",
   "execution_count": 14,
   "id": "6940fcfe",
   "metadata": {},
   "outputs": [
    {
     "name": "stderr",
     "output_type": "stream",
     "text": [
      "Loading required package: randomForest\n",
      "\n",
      "randomForest 4.7-1.1\n",
      "\n",
      "Type rfNews() to see new features/changes/bug fixes.\n",
      "\n",
      "Loading required package: MASS\n",
      "\n"
     ]
    }
   ],
   "source": [
    "require(randomForest)\n",
    "require(MASS)"
   ]
  },
  {
   "cell_type": "code",
   "execution_count": 15,
   "id": "8ff4ee2d",
   "metadata": {},
   "outputs": [],
   "source": [
    "attach(Boston)\n",
    "set.seed(23)\n",
    "\n",
    "train <- sample(1:nrow(Boston),300)"
   ]
  },
  {
   "cell_type": "code",
   "execution_count": 16,
   "id": "af04939b",
   "metadata": {},
   "outputs": [],
   "source": [
    "rf <- randomForest(medv ~ . , data = Boston , subset = train)"
   ]
  },
  {
   "cell_type": "code",
   "execution_count": 17,
   "id": "ee82a536",
   "metadata": {},
   "outputs": [],
   "source": [
    "prediction_fn <- function(df) {\n",
    "  return(predict(rf, df))\n",
    "}"
   ]
  },
  {
   "cell_type": "code",
   "execution_count": 18,
   "id": "c94661e2",
   "metadata": {},
   "outputs": [],
   "source": [
    "input <- data.frame(crim=0.02731, zn=0, indus=7.07, chas=0, nox=0.469,\n",
    "                    rm=6.421, age=78.9, dis=4.9671, rad=2, tax=242,\n",
    "                    ptratio=17.8, black=396.9, lstat=9.14)\n",
    "\n",
    "pred <- as.double(prediction_fn(input))"
   ]
  },
  {
   "cell_type": "code",
   "execution_count": 19,
   "id": "a4e079a1",
   "metadata": {},
   "outputs": [],
   "source": [
    "model <- Model(prediction_fn)"
   ]
  },
  {
   "cell_type": "code",
   "execution_count": 20,
   "id": "b05edb36",
   "metadata": {},
   "outputs": [],
   "source": [
    "features <- df_to_features(input)\n",
    "output <- c(create_output(\"medv\", pred))"
   ]
  },
  {
   "cell_type": "code",
   "execution_count": 21,
   "id": "0836b9f2",
   "metadata": {},
   "outputs": [],
   "source": [
    "saliencies <- lime(inputs=features, output=output, model=model)"
   ]
  },
  {
   "cell_type": "code",
   "execution_count": 22,
   "id": "29762fa1",
   "metadata": {},
   "outputs": [
    {
     "name": "stdout",
     "output_type": "stream",
     "text": [
      "=== medv LIME Saliencies =====================\n",
      "  Feature      Value |  Saliency  | Confidence\n",
      "----------------------------------------------\n",
      "  crim =       0.027 |     4.713         0.000\n",
      " indus =       7.070 |     4.713         0.000\n",
      "    rm =       6.421 |     4.713         0.000\n",
      "   dis =       4.967 |     4.713         0.000\n",
      "   tax =     242.000 |     4.713         0.000\n",
      "----------------------------------------------\n",
      "          Prediction |    22.985              \n",
      "=============================================="
     ]
    }
   ],
   "source": [
    "cat(saliencies$asTable())"
   ]
  }
 ],
 "metadata": {
  "kernelspec": {
   "display_name": "R",
   "language": "R",
   "name": "ir"
  },
  "language_info": {
   "codemirror_mode": "r",
   "file_extension": ".r",
   "mimetype": "text/x-r-source",
   "name": "R",
   "pygments_lexer": "r",
   "version": "4.2.0"
  }
 },
 "nbformat": 4,
 "nbformat_minor": 5
}
