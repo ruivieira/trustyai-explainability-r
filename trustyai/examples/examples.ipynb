{
 "cells": [
  {
   "cell_type": "code",
   "execution_count": 1,
   "id": "b131d238-ce3b-47c3-9771-f4368387f8f1",
   "metadata": {},
   "outputs": [],
   "source": [
    "library(trustyai)\n",
    "library(rJava)"
   ]
  },
  {
   "cell_type": "code",
   "execution_count": 2,
   "id": "b0f4d37e-add4-4efd-9fb2-0e51c3c69e6d",
   "metadata": {},
   "outputs": [],
   "source": [
    "center <- 10.0\n",
    "epsilon <- 2.0\n",
    "\n",
    "model <- trustyai::TestModels$getSumThresholdModel(center, epsilon)"
   ]
  },
  {
   "cell_type": "code",
   "execution_count": 3,
   "id": "700921a1-4998-4dec-ab1b-21c1e777135e",
   "metadata": {},
   "outputs": [
    {
     "data": {
      "text/html": [
       "TRUE"
      ],
      "text/latex": [
       "TRUE"
      ],
      "text/markdown": [
       "TRUE"
      ],
      "text/plain": [
       "[1] TRUE"
      ]
     },
     "metadata": {},
     "output_type": "display_data"
    },
    {
     "data": {
      "text/html": [
       "TRUE"
      ],
      "text/latex": [
       "TRUE"
      ],
      "text/markdown": [
       "TRUE"
      ],
      "text/plain": [
       "[1] TRUE"
      ]
     },
     "metadata": {},
     "output_type": "display_data"
    },
    {
     "data": {
      "text/html": [
       "TRUE"
      ],
      "text/latex": [
       "TRUE"
      ],
      "text/markdown": [
       "TRUE"
      ],
      "text/plain": [
       "[1] TRUE"
      ]
     },
     "metadata": {},
     "output_type": "display_data"
    }
   ],
   "source": [
    "features <- .jnew(\"java/util/ArrayList\")\n",
    "features$add(feature(name=\"x1\", type=\"number\", value=runif(n = 1, min = 0, max = 10)))\n",
    "features$add(feature(name=\"x2\", type=\"number\", value=runif(n = 1, min = 0, max = 10)))\n",
    "features$add(feature(name=\"x3\", type=\"number\", value=runif(n = 1, min = 0, max = 10)))"
   ]
  },
  {
   "cell_type": "code",
   "execution_count": 4,
   "id": "df054646-5694-4231-bd11-9ab823a78573",
   "metadata": {},
   "outputs": [
    {
     "data": {
      "text/html": [
       "TRUE"
      ],
      "text/latex": [
       "TRUE"
      ],
      "text/markdown": [
       "TRUE"
      ],
      "text/plain": [
       "[1] TRUE"
      ]
     },
     "metadata": {},
     "output_type": "display_data"
    }
   ],
   "source": [
    "input <- .jnew(\"java/util/ArrayList\")\n",
    "input$add(new(J(\"org/kie/trustyai/explainability/model/PredictionInput\"), features))\n",
    "output <- model$predictAsync(input)$get()"
   ]
  },
  {
   "cell_type": "code",
   "execution_count": 5,
   "id": "ba85ff52-238a-4cad-a10f-f48e715e8510",
   "metadata": {},
   "outputs": [
    {
     "data": {
      "text/plain": [
       "[1] \"Java-Object{[Output{value=false, type=boolean, score=2.5037318975664675, name='inside'}]}\""
      ]
     },
     "metadata": {},
     "output_type": "display_data"
    }
   ],
   "source": [
    "as.list(output)[[1]]$getOutputs()"
   ]
  },
  {
   "cell_type": "code",
   "execution_count": 6,
   "id": "4cfe1887-b46d-4220-b025-f4187dc37aa0",
   "metadata": {},
   "outputs": [],
   "source": [
    "lime <- new(J(\"org/kie/trustyai/explainability/local/lime/LimeExplainer\"))\n",
    "\n",
    "prediction <- new(J(\"org/kie/trustyai/explainability/model/SimplePrediction\"), as.list(input)[[1]], as.list(output)[[1]])\n",
    "\n",
    "saliencies <- lime$explainAsync(prediction, model)$get()"
   ]
  },
  {
   "cell_type": "code",
   "execution_count": 7,
   "id": "e415410e-d82c-4fa1-bcad-e107eda8e9a2",
   "metadata": {},
   "outputs": [
    {
     "name": "stdout",
     "output_type": "stream",
     "text": [
      "=== inside LIME Saliencies ==================\n",
      " Feature      Value |  Saliency  | Confidence\n",
      "---------------------------------------------\n",
      "   x1 =       5.968 |     0.147         0.000\n",
      "   x2 =       4.345 |     0.081         0.000\n",
      "---------------------------------------------\n",
      "         Prediction |     0.000              \n",
      "============================================="
     ]
    }
   ],
   "source": [
    "cat(saliencies$asTable())"
   ]
  },
  {
   "cell_type": "code",
   "execution_count": null,
   "id": "06927645-dfbd-40b8-8774-1e68ecd164d4",
   "metadata": {},
   "outputs": [],
   "source": []
  }
 ],
 "metadata": {
  "kernelspec": {
   "display_name": "R",
   "language": "R",
   "name": "ir"
  },
  "language_info": {
   "codemirror_mode": "r",
   "file_extension": ".r",
   "mimetype": "text/x-r-source",
   "name": "R",
   "pygments_lexer": "r",
   "version": "4.2.0"
  }
 },
 "nbformat": 4,
 "nbformat_minor": 5
}
