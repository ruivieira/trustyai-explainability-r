{
 "cells": [
  {
   "cell_type": "code",
   "execution_count": 1,
   "id": "03eedecf-800d-48c0-abe0-16366412d7c1",
   "metadata": {},
   "outputs": [],
   "source": [
    "library(trustyai)\n",
    "library(rJava)"
   ]
  },
  {
   "cell_type": "code",
   "execution_count": 2,
   "id": "18bae9f5-342a-4f40-8d59-5983685a7c00",
   "metadata": {},
   "outputs": [],
   "source": [
    "center <- 10.0\n",
    "epsilon <- 2.0\n",
    "\n",
    "model <- trustyai::TestModels$getSumThresholdModel(center, epsilon)"
   ]
  },
  {
   "cell_type": "code",
   "execution_count": 3,
   "id": "c51f335b-afe0-4889-a492-6d254290ad33",
   "metadata": {},
   "outputs": [],
   "source": [
    "features <- c(\n",
    "  feature(name=\"x1\", type=\"number\", value=runif(n = 1, min = 0, max = 30)),\n",
    "  feature(name=\"x2\", type=\"number\", value=runif(n = 1, min = 0, max = 30)),\n",
    "  feature(name=\"x3\", type=\"number\", value=runif(n = 1, min = 0, max = 30)))"
   ]
  },
  {
   "cell_type": "code",
   "execution_count": 4,
   "id": "f7d2846a-57a1-4752-be19-cb2c5e1168a4",
   "metadata": {},
   "outputs": [],
   "source": [
    "input <- prediction_input(features)\n",
    "output <- c(as.list(as.list(model$predictAsync(J(\"java/util/List\")$of(input))$get()$toArray())[[1]]$getOutputs())[[1]])"
   ]
  },
  {
   "cell_type": "code",
   "execution_count": 5,
   "id": "143ae7f2-3d96-4725-a166-a64d7222b17b",
   "metadata": {},
   "outputs": [],
   "source": [
    "prediction <- simple_prediction(features, output)"
   ]
  },
  {
   "cell_type": "code",
   "execution_count": 6,
   "id": "b21f01de-e866-450e-903e-0033c5e9089d",
   "metadata": {},
   "outputs": [],
   "source": [
    "saliencies <- lime(prediction, model)"
   ]
  },
  {
   "cell_type": "code",
   "execution_count": 7,
   "id": "3da2f09b-f25d-4a01-9948-0f036a38c1d2",
   "metadata": {},
   "outputs": [
    {
     "name": "stdout",
     "output_type": "stream",
     "text": [
      "=== inside LIME Saliencies ==================\n",
      " Feature      Value |  Saliency  | Confidence\n",
      "---------------------------------------------\n",
      "   x1 =      16.156 |     0.023         0.000\n",
      "   x2 =      14.810 |     0.022         0.000\n",
      "---------------------------------------------\n",
      "         Prediction |     0.000              \n",
      "============================================="
     ]
    }
   ],
   "source": [
    "cat(saliencies$asTable())"
   ]
  },
  {
   "cell_type": "markdown",
   "id": "b6c5cafc-c241-4d7b-a2a7-47c80e7d3948",
   "metadata": {},
   "source": [
    "# Simple linear regression"
   ]
  },
  {
   "cell_type": "code",
   "execution_count": 8,
   "id": "c917142d-c470-4cfc-8f51-2738f4078c87",
   "metadata": {},
   "outputs": [
    {
     "data": {
      "text/html": [
       "<table class=\"dataframe\">\n",
       "<caption>A data.frame: 6 × 3</caption>\n",
       "<thead>\n",
       "\t<tr><th></th><th scope=col>Girth</th><th scope=col>Height</th><th scope=col>Volume</th></tr>\n",
       "\t<tr><th></th><th scope=col>&lt;dbl&gt;</th><th scope=col>&lt;dbl&gt;</th><th scope=col>&lt;dbl&gt;</th></tr>\n",
       "</thead>\n",
       "<tbody>\n",
       "\t<tr><th scope=row>1</th><td> 8.3</td><td>70</td><td>10.3</td></tr>\n",
       "\t<tr><th scope=row>2</th><td> 8.6</td><td>65</td><td>10.3</td></tr>\n",
       "\t<tr><th scope=row>3</th><td> 8.8</td><td>63</td><td>10.2</td></tr>\n",
       "\t<tr><th scope=row>4</th><td>10.5</td><td>72</td><td>16.4</td></tr>\n",
       "\t<tr><th scope=row>5</th><td>10.7</td><td>81</td><td>18.8</td></tr>\n",
       "\t<tr><th scope=row>6</th><td>10.8</td><td>83</td><td>19.7</td></tr>\n",
       "</tbody>\n",
       "</table>\n"
      ],
      "text/latex": [
       "A data.frame: 6 × 3\n",
       "\\begin{tabular}{r|lll}\n",
       "  & Girth & Height & Volume\\\\\n",
       "  & <dbl> & <dbl> & <dbl>\\\\\n",
       "\\hline\n",
       "\t1 &  8.3 & 70 & 10.3\\\\\n",
       "\t2 &  8.6 & 65 & 10.3\\\\\n",
       "\t3 &  8.8 & 63 & 10.2\\\\\n",
       "\t4 & 10.5 & 72 & 16.4\\\\\n",
       "\t5 & 10.7 & 81 & 18.8\\\\\n",
       "\t6 & 10.8 & 83 & 19.7\\\\\n",
       "\\end{tabular}\n"
      ],
      "text/markdown": [
       "\n",
       "A data.frame: 6 × 3\n",
       "\n",
       "| <!--/--> | Girth &lt;dbl&gt; | Height &lt;dbl&gt; | Volume &lt;dbl&gt; |\n",
       "|---|---|---|---|\n",
       "| 1 |  8.3 | 70 | 10.3 |\n",
       "| 2 |  8.6 | 65 | 10.3 |\n",
       "| 3 |  8.8 | 63 | 10.2 |\n",
       "| 4 | 10.5 | 72 | 16.4 |\n",
       "| 5 | 10.7 | 81 | 18.8 |\n",
       "| 6 | 10.8 | 83 | 19.7 |\n",
       "\n"
      ],
      "text/plain": [
       "  Girth Height Volume\n",
       "1  8.3  70     10.3  \n",
       "2  8.6  65     10.3  \n",
       "3  8.8  63     10.2  \n",
       "4 10.5  72     16.4  \n",
       "5 10.7  81     18.8  \n",
       "6 10.8  83     19.7  "
      ]
     },
     "metadata": {},
     "output_type": "display_data"
    }
   ],
   "source": [
    "data(trees)\n",
    "head(trees)"
   ]
  },
  {
   "cell_type": "code",
   "execution_count": 9,
   "id": "44a1e1ca-28b7-415b-b2d5-40b4abff6061",
   "metadata": {},
   "outputs": [],
   "source": [
    "regression <- lm(Volume ~ Girth * Height, data = trees)"
   ]
  },
  {
   "cell_type": "code",
   "execution_count": 10,
   "id": "b39d2263-d02a-470e-8dae-c3001ce8fdb5",
   "metadata": {},
   "outputs": [
    {
     "data": {
      "text/plain": [
       "\n",
       "Call:\n",
       "lm(formula = Volume ~ Girth * Height, data = trees)\n",
       "\n",
       "Residuals:\n",
       "    Min      1Q  Median      3Q     Max \n",
       "-6.5821 -1.0673  0.3026  1.5641  4.6649 \n",
       "\n",
       "Coefficients:\n",
       "             Estimate Std. Error t value Pr(>|t|)    \n",
       "(Intercept)  69.39632   23.83575   2.911  0.00713 ** \n",
       "Girth        -5.85585    1.92134  -3.048  0.00511 ** \n",
       "Height       -1.29708    0.30984  -4.186  0.00027 ***\n",
       "Girth:Height  0.13465    0.02438   5.524 7.48e-06 ***\n",
       "---\n",
       "Signif. codes:  0 ‘***’ 0.001 ‘**’ 0.01 ‘*’ 0.05 ‘.’ 0.1 ‘ ’ 1\n",
       "\n",
       "Residual standard error: 2.709 on 27 degrees of freedom\n",
       "Multiple R-squared:  0.9756,\tAdjusted R-squared:  0.9728 \n",
       "F-statistic: 359.3 on 3 and 27 DF,  p-value: < 2.2e-16\n"
      ]
     },
     "metadata": {},
     "output_type": "display_data"
    }
   ],
   "source": [
    "summary(regression)"
   ]
  },
  {
   "cell_type": "code",
   "execution_count": 11,
   "id": "bfcff72c-2432-47c4-bdd3-47c751aa1867",
   "metadata": {},
   "outputs": [],
   "source": [
    "prediction_fn <- function(df) {\n",
    "  return(predict(regression, df))\n",
    "}"
   ]
  },
  {
   "cell_type": "code",
   "execution_count": 12,
   "id": "c06deb5d-701c-4482-8937-661e3af0153b",
   "metadata": {},
   "outputs": [],
   "source": [
    "input <- data.frame(Girth = 18.2, Height = 72)\n",
    "output <- prediction_fn(input)"
   ]
  },
  {
   "cell_type": "code",
   "execution_count": 13,
   "id": "ef007c71-1b06-4857-ab0d-1675eca0c5d2",
   "metadata": {},
   "outputs": [],
   "source": [
    "l_input <- list(\"Girth\"=18.2, \"Height\"=72)\n",
    "result <- as.double(prediction_fn(l_input))"
   ]
  },
  {
   "cell_type": "code",
   "execution_count": 14,
   "id": "53a59f03-94e9-4d21-98e0-851dd6b20d95",
   "metadata": {},
   "outputs": [],
   "source": [
    "model <- Model(prediction_fn)"
   ]
  },
  {
   "cell_type": "code",
   "execution_count": 15,
   "id": "01638aa3-3b21-4446-9d60-ba708e7d6f68",
   "metadata": {},
   "outputs": [],
   "source": [
    "features <- c(\n",
    "  feature(name=\"Girth\", type=\"number\", value=18.2),\n",
    "  feature(name=\"Height\", type=\"number\", value=72.0))\n",
    "\n",
    "output <- c(create_output(\"Volume\", result))\n",
    "\n",
    "prediction <- simple_prediction(features, output)\n",
    "\n",
    "saliencies <- lime(prediction, model)"
   ]
  },
  {
   "cell_type": "code",
   "execution_count": 16,
   "id": "b1af450e-3fdf-430c-8138-47c5d944578c",
   "metadata": {},
   "outputs": [
    {
     "name": "stdout",
     "output_type": "stream",
     "text": [
      "=== Volume LIME Saliencies ===================\n",
      "  Feature      Value |  Saliency  | Confidence\n",
      "----------------------------------------------\n",
      " Girth =      18.200 |  -121.838         0.000\n",
      "----------------------------------------------\n",
      "          Prediction |    45.881              \n",
      "=============================================="
     ]
    }
   ],
   "source": [
    "cat(saliencies$asTable())"
   ]
  },
  {
   "cell_type": "code",
   "execution_count": null,
   "id": "cfa9720f-7297-4a18-b23b-2cca82325989",
   "metadata": {},
   "outputs": [],
   "source": []
  }
 ],
 "metadata": {
  "kernelspec": {
   "display_name": "R",
   "language": "R",
   "name": "ir"
  },
  "language_info": {
   "codemirror_mode": "r",
   "file_extension": ".r",
   "mimetype": "text/x-r-source",
   "name": "R",
   "pygments_lexer": "r",
   "version": "4.2.0"
  }
 },
 "nbformat": 4,
 "nbformat_minor": 5
}
