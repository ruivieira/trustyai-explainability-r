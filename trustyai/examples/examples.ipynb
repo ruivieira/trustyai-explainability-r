{
 "cells": [
  {
   "cell_type": "code",
   "execution_count": 1,
   "id": "03eedecf-800d-48c0-abe0-16366412d7c1",
   "metadata": {},
   "outputs": [],
   "source": [
    "library(trustyai)\n",
    "library(rJava)"
   ]
  },
  {
   "cell_type": "markdown",
   "id": "b6c5cafc-c241-4d7b-a2a7-47c80e7d3948",
   "metadata": {},
   "source": [
    "# Simple linear regression\n",
    "\n",
    "We'll start with a simple linear regression using the `trees`[^1] dataset.\n",
    "\n",
    "[^1]: https://stat.ethz.ch/R-manual/R-devel/library/datasets/html/trees.html"
   ]
  },
  {
   "cell_type": "code",
   "execution_count": 27,
   "id": "c917142d-c470-4cfc-8f51-2738f4078c87",
   "metadata": {},
   "outputs": [
    {
     "data": {
      "text/html": [
       "<table class=\"dataframe\">\n",
       "<caption>A data.frame: 6 × 3</caption>\n",
       "<thead>\n",
       "\t<tr><th></th><th scope=col>Girth</th><th scope=col>Height</th><th scope=col>Volume</th></tr>\n",
       "\t<tr><th></th><th scope=col>&lt;dbl&gt;</th><th scope=col>&lt;dbl&gt;</th><th scope=col>&lt;dbl&gt;</th></tr>\n",
       "</thead>\n",
       "<tbody>\n",
       "\t<tr><th scope=row>1</th><td> 8.3</td><td>70</td><td>10.3</td></tr>\n",
       "\t<tr><th scope=row>2</th><td> 8.6</td><td>65</td><td>10.3</td></tr>\n",
       "\t<tr><th scope=row>3</th><td> 8.8</td><td>63</td><td>10.2</td></tr>\n",
       "\t<tr><th scope=row>4</th><td>10.5</td><td>72</td><td>16.4</td></tr>\n",
       "\t<tr><th scope=row>5</th><td>10.7</td><td>81</td><td>18.8</td></tr>\n",
       "\t<tr><th scope=row>6</th><td>10.8</td><td>83</td><td>19.7</td></tr>\n",
       "</tbody>\n",
       "</table>\n"
      ],
      "text/latex": [
       "A data.frame: 6 × 3\n",
       "\\begin{tabular}{r|lll}\n",
       "  & Girth & Height & Volume\\\\\n",
       "  & <dbl> & <dbl> & <dbl>\\\\\n",
       "\\hline\n",
       "\t1 &  8.3 & 70 & 10.3\\\\\n",
       "\t2 &  8.6 & 65 & 10.3\\\\\n",
       "\t3 &  8.8 & 63 & 10.2\\\\\n",
       "\t4 & 10.5 & 72 & 16.4\\\\\n",
       "\t5 & 10.7 & 81 & 18.8\\\\\n",
       "\t6 & 10.8 & 83 & 19.7\\\\\n",
       "\\end{tabular}\n"
      ],
      "text/markdown": [
       "\n",
       "A data.frame: 6 × 3\n",
       "\n",
       "| <!--/--> | Girth &lt;dbl&gt; | Height &lt;dbl&gt; | Volume &lt;dbl&gt; |\n",
       "|---|---|---|---|\n",
       "| 1 |  8.3 | 70 | 10.3 |\n",
       "| 2 |  8.6 | 65 | 10.3 |\n",
       "| 3 |  8.8 | 63 | 10.2 |\n",
       "| 4 | 10.5 | 72 | 16.4 |\n",
       "| 5 | 10.7 | 81 | 18.8 |\n",
       "| 6 | 10.8 | 83 | 19.7 |\n",
       "\n"
      ],
      "text/plain": [
       "  Girth Height Volume\n",
       "1  8.3  70     10.3  \n",
       "2  8.6  65     10.3  \n",
       "3  8.8  63     10.2  \n",
       "4 10.5  72     16.4  \n",
       "5 10.7  81     18.8  \n",
       "6 10.8  83     19.7  "
      ]
     },
     "metadata": {},
     "output_type": "display_data"
    }
   ],
   "source": [
    "data(trees)\n",
    "head(trees)"
   ]
  },
  {
   "cell_type": "code",
   "execution_count": 28,
   "id": "44a1e1ca-28b7-415b-b2d5-40b4abff6061",
   "metadata": {},
   "outputs": [],
   "source": [
    "regression <- lm(Volume ~ Girth * Height, data = trees)"
   ]
  },
  {
   "cell_type": "code",
   "execution_count": 29,
   "id": "b39d2263-d02a-470e-8dae-c3001ce8fdb5",
   "metadata": {},
   "outputs": [
    {
     "data": {
      "text/plain": [
       "\n",
       "Call:\n",
       "lm(formula = Volume ~ Girth * Height, data = trees)\n",
       "\n",
       "Residuals:\n",
       "    Min      1Q  Median      3Q     Max \n",
       "-6.5821 -1.0673  0.3026  1.5641  4.6649 \n",
       "\n",
       "Coefficients:\n",
       "             Estimate Std. Error t value Pr(>|t|)    \n",
       "(Intercept)  69.39632   23.83575   2.911  0.00713 ** \n",
       "Girth        -5.85585    1.92134  -3.048  0.00511 ** \n",
       "Height       -1.29708    0.30984  -4.186  0.00027 ***\n",
       "Girth:Height  0.13465    0.02438   5.524 7.48e-06 ***\n",
       "---\n",
       "Signif. codes:  0 ‘***’ 0.001 ‘**’ 0.01 ‘*’ 0.05 ‘.’ 0.1 ‘ ’ 1\n",
       "\n",
       "Residual standard error: 2.709 on 27 degrees of freedom\n",
       "Multiple R-squared:  0.9756,\tAdjusted R-squared:  0.9728 \n",
       "F-statistic: 359.3 on 3 and 27 DF,  p-value: < 2.2e-16\n"
      ]
     },
     "metadata": {},
     "output_type": "display_data"
    }
   ],
   "source": [
    "summary(regression)"
   ]
  },
  {
   "cell_type": "markdown",
   "id": "c0bf524c-28cc-4b02-bc32-60bb2ce24c1b",
   "metadata": {},
   "source": [
    "We create an R \"prediction\" function, in this case taking a dataframe as the input."
   ]
  },
  {
   "cell_type": "code",
   "execution_count": 30,
   "id": "bfcff72c-2432-47c4-bdd3-47c751aa1867",
   "metadata": {},
   "outputs": [],
   "source": [
    "prediction_fn <- function(df) {\n",
    "  return(predict(regression, df))\n",
    "}"
   ]
  },
  {
   "cell_type": "markdown",
   "id": "9de6d9c6-2940-4263-a24d-048b2e74945a",
   "metadata": {},
   "source": [
    "Create an input and store the prediction."
   ]
  },
  {
   "cell_type": "code",
   "execution_count": 31,
   "id": "c06deb5d-701c-4482-8937-661e3af0153b",
   "metadata": {},
   "outputs": [],
   "source": [
    "input <- trees[1,1:2]\n",
    "pred <- as.double(prediction_fn(input))"
   ]
  },
  {
   "cell_type": "code",
   "execution_count": 32,
   "id": "37f58611-3f0c-491d-93fa-1ee0b27d8179",
   "metadata": {},
   "outputs": [
    {
     "data": {
      "text/html": [
       "<table class=\"dataframe\">\n",
       "<caption>A data.frame: 1 × 2</caption>\n",
       "<thead>\n",
       "\t<tr><th></th><th scope=col>Girth</th><th scope=col>Height</th></tr>\n",
       "\t<tr><th></th><th scope=col>&lt;dbl&gt;</th><th scope=col>&lt;dbl&gt;</th></tr>\n",
       "</thead>\n",
       "<tbody>\n",
       "\t<tr><th scope=row>1</th><td>8.3</td><td>70</td></tr>\n",
       "</tbody>\n",
       "</table>\n"
      ],
      "text/latex": [
       "A data.frame: 1 × 2\n",
       "\\begin{tabular}{r|ll}\n",
       "  & Girth & Height\\\\\n",
       "  & <dbl> & <dbl>\\\\\n",
       "\\hline\n",
       "\t1 & 8.3 & 70\\\\\n",
       "\\end{tabular}\n"
      ],
      "text/markdown": [
       "\n",
       "A data.frame: 1 × 2\n",
       "\n",
       "| <!--/--> | Girth &lt;dbl&gt; | Height &lt;dbl&gt; |\n",
       "|---|---|---|\n",
       "| 1 | 8.3 | 70 |\n",
       "\n"
      ],
      "text/plain": [
       "  Girth Height\n",
       "1 8.3   70    "
      ]
     },
     "metadata": {},
     "output_type": "display_data"
    }
   ],
   "source": [
    "input"
   ]
  },
  {
   "cell_type": "code",
   "execution_count": 33,
   "id": "0c3434eb-1715-4688-b9d1-aeaac29e5735",
   "metadata": {},
   "outputs": [
    {
     "data": {
      "text/html": [
       "8.23114485222938"
      ],
      "text/latex": [
       "8.23114485222938"
      ],
      "text/markdown": [
       "8.23114485222938"
      ],
      "text/plain": [
       "[1] 8.231145"
      ]
     },
     "metadata": {},
     "output_type": "display_data"
    }
   ],
   "source": [
    "pred"
   ]
  },
  {
   "cell_type": "markdown",
   "id": "4bb3db66-d0a7-4e8a-ae92-925b8bc8e2df",
   "metadata": {},
   "source": [
    "We wrap the prediction function in a TrustyAI `Model`."
   ]
  },
  {
   "cell_type": "code",
   "execution_count": 34,
   "id": "53a59f03-94e9-4d21-98e0-851dd6b20d95",
   "metadata": {},
   "outputs": [],
   "source": [
    "model <- Model(prediction_fn)"
   ]
  },
  {
   "cell_type": "markdown",
   "id": "60fe8e26-7456-4584-8904-641656b1228c",
   "metadata": {},
   "source": [
    "We convert the input to features and the prediction as an `Output`."
   ]
  },
  {
   "cell_type": "code",
   "execution_count": 37,
   "id": "b4ac5694-b7be-4a22-9505-c7704ce5a575",
   "metadata": {},
   "outputs": [],
   "source": [
    "features <- df_to_features(input)"
   ]
  },
  {
   "cell_type": "code",
   "execution_count": 38,
   "id": "ec401611-04ba-41ec-b6c9-94735df1d623",
   "metadata": {},
   "outputs": [],
   "source": [
    "output <- c(create_output(\"Volume\", pred))"
   ]
  },
  {
   "cell_type": "markdown",
   "id": "8b91f5c9-57ce-4ba6-8a86-066b62c8da56",
   "metadata": {},
   "source": [
    "Request the saliencies for this input/output to the LIME explainer:"
   ]
  },
  {
   "cell_type": "code",
   "execution_count": 39,
   "id": "4cdcb513-31f1-4480-a7c2-82e8f1357263",
   "metadata": {},
   "outputs": [],
   "source": [
    "saliencies <- lime(features, output, model)"
   ]
  },
  {
   "cell_type": "code",
   "execution_count": 40,
   "id": "b1af450e-3fdf-430c-8138-47c5d944578c",
   "metadata": {},
   "outputs": [
    {
     "name": "stdout",
     "output_type": "stream",
     "text": [
      "=== Volume LIME Saliencies ===================\n",
      "  Feature      Value |  Saliency  | Confidence\n",
      "----------------------------------------------\n",
      " Girth =       8.300 |     2.833         0.000\n",
      "----------------------------------------------\n",
      "          Prediction |     8.231              \n",
      "=============================================="
     ]
    }
   ],
   "source": [
    "cat(saliencies$asTable())"
   ]
  },
  {
   "cell_type": "markdown",
   "id": "7fdb3aef",
   "metadata": {},
   "source": [
    "# Random forests\n",
    "\n",
    "For the Boston housing dataset."
   ]
  },
  {
   "cell_type": "code",
   "execution_count": 41,
   "id": "e3d66a2d",
   "metadata": {},
   "outputs": [],
   "source": [
    "require(randomForest)\n",
    "require(MASS)"
   ]
  },
  {
   "cell_type": "code",
   "execution_count": 42,
   "id": "34df74b5",
   "metadata": {},
   "outputs": [
    {
     "data": {
      "text/html": [
       "<table class=\"dataframe\">\n",
       "<caption>A data.frame: 6 × 14</caption>\n",
       "<thead>\n",
       "\t<tr><th></th><th scope=col>crim</th><th scope=col>zn</th><th scope=col>indus</th><th scope=col>chas</th><th scope=col>nox</th><th scope=col>rm</th><th scope=col>age</th><th scope=col>dis</th><th scope=col>rad</th><th scope=col>tax</th><th scope=col>ptratio</th><th scope=col>black</th><th scope=col>lstat</th><th scope=col>medv</th></tr>\n",
       "\t<tr><th></th><th scope=col>&lt;dbl&gt;</th><th scope=col>&lt;dbl&gt;</th><th scope=col>&lt;dbl&gt;</th><th scope=col>&lt;int&gt;</th><th scope=col>&lt;dbl&gt;</th><th scope=col>&lt;dbl&gt;</th><th scope=col>&lt;dbl&gt;</th><th scope=col>&lt;dbl&gt;</th><th scope=col>&lt;int&gt;</th><th scope=col>&lt;dbl&gt;</th><th scope=col>&lt;dbl&gt;</th><th scope=col>&lt;dbl&gt;</th><th scope=col>&lt;dbl&gt;</th><th scope=col>&lt;dbl&gt;</th></tr>\n",
       "</thead>\n",
       "<tbody>\n",
       "\t<tr><th scope=row>1</th><td>0.00632</td><td>18</td><td>2.31</td><td>0</td><td>0.538</td><td>6.575</td><td>65.2</td><td>4.0900</td><td>1</td><td>296</td><td>15.3</td><td>396.90</td><td>4.98</td><td>24.0</td></tr>\n",
       "\t<tr><th scope=row>2</th><td>0.02731</td><td> 0</td><td>7.07</td><td>0</td><td>0.469</td><td>6.421</td><td>78.9</td><td>4.9671</td><td>2</td><td>242</td><td>17.8</td><td>396.90</td><td>9.14</td><td>21.6</td></tr>\n",
       "\t<tr><th scope=row>3</th><td>0.02729</td><td> 0</td><td>7.07</td><td>0</td><td>0.469</td><td>7.185</td><td>61.1</td><td>4.9671</td><td>2</td><td>242</td><td>17.8</td><td>392.83</td><td>4.03</td><td>34.7</td></tr>\n",
       "\t<tr><th scope=row>4</th><td>0.03237</td><td> 0</td><td>2.18</td><td>0</td><td>0.458</td><td>6.998</td><td>45.8</td><td>6.0622</td><td>3</td><td>222</td><td>18.7</td><td>394.63</td><td>2.94</td><td>33.4</td></tr>\n",
       "\t<tr><th scope=row>5</th><td>0.06905</td><td> 0</td><td>2.18</td><td>0</td><td>0.458</td><td>7.147</td><td>54.2</td><td>6.0622</td><td>3</td><td>222</td><td>18.7</td><td>396.90</td><td>5.33</td><td>36.2</td></tr>\n",
       "\t<tr><th scope=row>6</th><td>0.02985</td><td> 0</td><td>2.18</td><td>0</td><td>0.458</td><td>6.430</td><td>58.7</td><td>6.0622</td><td>3</td><td>222</td><td>18.7</td><td>394.12</td><td>5.21</td><td>28.7</td></tr>\n",
       "</tbody>\n",
       "</table>\n"
      ],
      "text/latex": [
       "A data.frame: 6 × 14\n",
       "\\begin{tabular}{r|llllllllllllll}\n",
       "  & crim & zn & indus & chas & nox & rm & age & dis & rad & tax & ptratio & black & lstat & medv\\\\\n",
       "  & <dbl> & <dbl> & <dbl> & <int> & <dbl> & <dbl> & <dbl> & <dbl> & <int> & <dbl> & <dbl> & <dbl> & <dbl> & <dbl>\\\\\n",
       "\\hline\n",
       "\t1 & 0.00632 & 18 & 2.31 & 0 & 0.538 & 6.575 & 65.2 & 4.0900 & 1 & 296 & 15.3 & 396.90 & 4.98 & 24.0\\\\\n",
       "\t2 & 0.02731 &  0 & 7.07 & 0 & 0.469 & 6.421 & 78.9 & 4.9671 & 2 & 242 & 17.8 & 396.90 & 9.14 & 21.6\\\\\n",
       "\t3 & 0.02729 &  0 & 7.07 & 0 & 0.469 & 7.185 & 61.1 & 4.9671 & 2 & 242 & 17.8 & 392.83 & 4.03 & 34.7\\\\\n",
       "\t4 & 0.03237 &  0 & 2.18 & 0 & 0.458 & 6.998 & 45.8 & 6.0622 & 3 & 222 & 18.7 & 394.63 & 2.94 & 33.4\\\\\n",
       "\t5 & 0.06905 &  0 & 2.18 & 0 & 0.458 & 7.147 & 54.2 & 6.0622 & 3 & 222 & 18.7 & 396.90 & 5.33 & 36.2\\\\\n",
       "\t6 & 0.02985 &  0 & 2.18 & 0 & 0.458 & 6.430 & 58.7 & 6.0622 & 3 & 222 & 18.7 & 394.12 & 5.21 & 28.7\\\\\n",
       "\\end{tabular}\n"
      ],
      "text/markdown": [
       "\n",
       "A data.frame: 6 × 14\n",
       "\n",
       "| <!--/--> | crim &lt;dbl&gt; | zn &lt;dbl&gt; | indus &lt;dbl&gt; | chas &lt;int&gt; | nox &lt;dbl&gt; | rm &lt;dbl&gt; | age &lt;dbl&gt; | dis &lt;dbl&gt; | rad &lt;int&gt; | tax &lt;dbl&gt; | ptratio &lt;dbl&gt; | black &lt;dbl&gt; | lstat &lt;dbl&gt; | medv &lt;dbl&gt; |\n",
       "|---|---|---|---|---|---|---|---|---|---|---|---|---|---|---|\n",
       "| 1 | 0.00632 | 18 | 2.31 | 0 | 0.538 | 6.575 | 65.2 | 4.0900 | 1 | 296 | 15.3 | 396.90 | 4.98 | 24.0 |\n",
       "| 2 | 0.02731 |  0 | 7.07 | 0 | 0.469 | 6.421 | 78.9 | 4.9671 | 2 | 242 | 17.8 | 396.90 | 9.14 | 21.6 |\n",
       "| 3 | 0.02729 |  0 | 7.07 | 0 | 0.469 | 7.185 | 61.1 | 4.9671 | 2 | 242 | 17.8 | 392.83 | 4.03 | 34.7 |\n",
       "| 4 | 0.03237 |  0 | 2.18 | 0 | 0.458 | 6.998 | 45.8 | 6.0622 | 3 | 222 | 18.7 | 394.63 | 2.94 | 33.4 |\n",
       "| 5 | 0.06905 |  0 | 2.18 | 0 | 0.458 | 7.147 | 54.2 | 6.0622 | 3 | 222 | 18.7 | 396.90 | 5.33 | 36.2 |\n",
       "| 6 | 0.02985 |  0 | 2.18 | 0 | 0.458 | 6.430 | 58.7 | 6.0622 | 3 | 222 | 18.7 | 394.12 | 5.21 | 28.7 |\n",
       "\n"
      ],
      "text/plain": [
       "  crim    zn indus chas nox   rm    age  dis    rad tax ptratio black  lstat\n",
       "1 0.00632 18 2.31  0    0.538 6.575 65.2 4.0900 1   296 15.3    396.90 4.98 \n",
       "2 0.02731  0 7.07  0    0.469 6.421 78.9 4.9671 2   242 17.8    396.90 9.14 \n",
       "3 0.02729  0 7.07  0    0.469 7.185 61.1 4.9671 2   242 17.8    392.83 4.03 \n",
       "4 0.03237  0 2.18  0    0.458 6.998 45.8 6.0622 3   222 18.7    394.63 2.94 \n",
       "5 0.06905  0 2.18  0    0.458 7.147 54.2 6.0622 3   222 18.7    396.90 5.33 \n",
       "6 0.02985  0 2.18  0    0.458 6.430 58.7 6.0622 3   222 18.7    394.12 5.21 \n",
       "  medv\n",
       "1 24.0\n",
       "2 21.6\n",
       "3 34.7\n",
       "4 33.4\n",
       "5 36.2\n",
       "6 28.7"
      ]
     },
     "metadata": {},
     "output_type": "display_data"
    }
   ],
   "source": [
    "set.seed(23)\n",
    "head(Boston)"
   ]
  },
  {
   "cell_type": "code",
   "execution_count": 43,
   "id": "bb221769",
   "metadata": {},
   "outputs": [],
   "source": [
    "train <- sample(1:nrow(Boston),300)"
   ]
  },
  {
   "cell_type": "code",
   "execution_count": 44,
   "id": "640cd149",
   "metadata": {},
   "outputs": [],
   "source": [
    "rf <- randomForest(medv ~ . , data = Boston , subset = train)"
   ]
  },
  {
   "cell_type": "code",
   "execution_count": 45,
   "id": "255c23f0",
   "metadata": {},
   "outputs": [],
   "source": [
    "prediction_fn <- function(df) {\n",
    "  return(predict(rf, df))\n",
    "}"
   ]
  },
  {
   "cell_type": "code",
   "execution_count": 46,
   "id": "aca10a49",
   "metadata": {},
   "outputs": [],
   "source": [
    "input <- Boston[1,1:13]\n",
    "\n",
    "pred <- as.double(prediction_fn(input))"
   ]
  },
  {
   "cell_type": "code",
   "execution_count": 47,
   "id": "a51fff7b",
   "metadata": {},
   "outputs": [
    {
     "data": {
      "text/html": [
       "<table class=\"dataframe\">\n",
       "<caption>A data.frame: 1 × 13</caption>\n",
       "<thead>\n",
       "\t<tr><th></th><th scope=col>crim</th><th scope=col>zn</th><th scope=col>indus</th><th scope=col>chas</th><th scope=col>nox</th><th scope=col>rm</th><th scope=col>age</th><th scope=col>dis</th><th scope=col>rad</th><th scope=col>tax</th><th scope=col>ptratio</th><th scope=col>black</th><th scope=col>lstat</th></tr>\n",
       "\t<tr><th></th><th scope=col>&lt;dbl&gt;</th><th scope=col>&lt;dbl&gt;</th><th scope=col>&lt;dbl&gt;</th><th scope=col>&lt;int&gt;</th><th scope=col>&lt;dbl&gt;</th><th scope=col>&lt;dbl&gt;</th><th scope=col>&lt;dbl&gt;</th><th scope=col>&lt;dbl&gt;</th><th scope=col>&lt;int&gt;</th><th scope=col>&lt;dbl&gt;</th><th scope=col>&lt;dbl&gt;</th><th scope=col>&lt;dbl&gt;</th><th scope=col>&lt;dbl&gt;</th></tr>\n",
       "</thead>\n",
       "<tbody>\n",
       "\t<tr><th scope=row>1</th><td>0.00632</td><td>18</td><td>2.31</td><td>0</td><td>0.538</td><td>6.575</td><td>65.2</td><td>4.09</td><td>1</td><td>296</td><td>15.3</td><td>396.9</td><td>4.98</td></tr>\n",
       "</tbody>\n",
       "</table>\n"
      ],
      "text/latex": [
       "A data.frame: 1 × 13\n",
       "\\begin{tabular}{r|lllllllllllll}\n",
       "  & crim & zn & indus & chas & nox & rm & age & dis & rad & tax & ptratio & black & lstat\\\\\n",
       "  & <dbl> & <dbl> & <dbl> & <int> & <dbl> & <dbl> & <dbl> & <dbl> & <int> & <dbl> & <dbl> & <dbl> & <dbl>\\\\\n",
       "\\hline\n",
       "\t1 & 0.00632 & 18 & 2.31 & 0 & 0.538 & 6.575 & 65.2 & 4.09 & 1 & 296 & 15.3 & 396.9 & 4.98\\\\\n",
       "\\end{tabular}\n"
      ],
      "text/markdown": [
       "\n",
       "A data.frame: 1 × 13\n",
       "\n",
       "| <!--/--> | crim &lt;dbl&gt; | zn &lt;dbl&gt; | indus &lt;dbl&gt; | chas &lt;int&gt; | nox &lt;dbl&gt; | rm &lt;dbl&gt; | age &lt;dbl&gt; | dis &lt;dbl&gt; | rad &lt;int&gt; | tax &lt;dbl&gt; | ptratio &lt;dbl&gt; | black &lt;dbl&gt; | lstat &lt;dbl&gt; |\n",
       "|---|---|---|---|---|---|---|---|---|---|---|---|---|---|\n",
       "| 1 | 0.00632 | 18 | 2.31 | 0 | 0.538 | 6.575 | 65.2 | 4.09 | 1 | 296 | 15.3 | 396.9 | 4.98 |\n",
       "\n"
      ],
      "text/plain": [
       "  crim    zn indus chas nox   rm    age  dis  rad tax ptratio black lstat\n",
       "1 0.00632 18 2.31  0    0.538 6.575 65.2 4.09 1   296 15.3    396.9 4.98 "
      ]
     },
     "metadata": {},
     "output_type": "display_data"
    }
   ],
   "source": [
    "input"
   ]
  },
  {
   "cell_type": "code",
   "execution_count": 48,
   "id": "32a54c27",
   "metadata": {},
   "outputs": [
    {
     "data": {
      "text/html": [
       "27.5081333333333"
      ],
      "text/latex": [
       "27.5081333333333"
      ],
      "text/markdown": [
       "27.5081333333333"
      ],
      "text/plain": [
       "[1] 27.50813"
      ]
     },
     "metadata": {},
     "output_type": "display_data"
    }
   ],
   "source": [
    "pred"
   ]
  },
  {
   "cell_type": "code",
   "execution_count": 49,
   "id": "23181bd5",
   "metadata": {},
   "outputs": [],
   "source": [
    "model <- Model(prediction_fn)"
   ]
  },
  {
   "cell_type": "code",
   "execution_count": 50,
   "id": "2db5b9c2",
   "metadata": {},
   "outputs": [],
   "source": [
    "features <- df_to_features(input)\n",
    "output <- c(create_output(\"medv\", pred))"
   ]
  },
  {
   "cell_type": "code",
   "execution_count": 51,
   "id": "95749911",
   "metadata": {},
   "outputs": [],
   "source": [
    "saliencies <- lime(inputs=features, output=output, model=model)"
   ]
  },
  {
   "cell_type": "code",
   "execution_count": 52,
   "id": "4c998658",
   "metadata": {},
   "outputs": [
    {
     "name": "stdout",
     "output_type": "stream",
     "text": [
      "=== medv LIME Saliencies =====================\n",
      "  Feature      Value |  Saliency  | Confidence\n",
      "----------------------------------------------\n",
      " indus =       2.310 |     8.732         0.000\n",
      "   nox =       0.538 |     8.732         0.000\n",
      " lstat =       4.980 |     8.732         0.000\n",
      "  crim =       0.006 |     0.000         0.000\n",
      "    zn =      18.000 |     0.000         0.000\n",
      "----------------------------------------------\n",
      "          Prediction |    27.508              \n",
      "=============================================="
     ]
    }
   ],
   "source": [
    "cat(saliencies$asTable())"
   ]
  },
  {
   "cell_type": "code",
   "execution_count": null,
   "id": "74b01e51",
   "metadata": {},
   "outputs": [],
   "source": []
  }
 ],
 "metadata": {
  "kernelspec": {
   "display_name": "R",
   "language": "R",
   "name": "ir"
  },
  "language_info": {
   "codemirror_mode": "r",
   "file_extension": ".r",
   "mimetype": "text/x-r-source",
   "name": "R",
   "pygments_lexer": "r",
   "version": "4.2.0"
  }
 },
 "nbformat": 4,
 "nbformat_minor": 5
}
